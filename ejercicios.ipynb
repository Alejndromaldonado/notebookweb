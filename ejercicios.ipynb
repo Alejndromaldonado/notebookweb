{
 "cells": [
  {
   "cell_type": "markdown",
   "id": "0b976154",
   "metadata": {},
   "source": [
    "# Informe Empresarial\n",
    "\n",
    "## Publicando mi Notebook\n",
    "\n",
    "---\n",
    "\n",
    "**Empresa:**  \n",
    "**Fecha:**  \n",
    "**Autor:**  \n",
    "\n",
    "---\n",
    "\n",
    "Este informe presenta el proceso y las consideraciones para la publicación del Notebook, detallando los pasos realizados, los resultados obtenidos y las recomendaciones para futuras implementaciones."
   ]
  },
  {
   "cell_type": "code",
   "execution_count": 23,
   "id": "c504599c",
   "metadata": {},
   "outputs": [
    {
     "data": {
      "application/vnd.microsoft.datawrangler.viewer.v0+json": {
       "columns": [
        {
         "name": "index",
         "rawType": "int64",
         "type": "integer"
        },
        {
         "name": "DP",
         "rawType": "int64",
         "type": "integer"
        },
        {
         "name": "DPNOM",
         "rawType": "object",
         "type": "string"
        },
        {
         "name": "Year",
         "rawType": "int64",
         "type": "integer"
        },
        {
         "name": "ÁREA GEOGRÁFICA",
         "rawType": "object",
         "type": "string"
        },
        {
         "name": "Población",
         "rawType": "int64",
         "type": "integer"
        }
       ],
       "ref": "1a3a0fb4-a3ea-4d87-94f9-e386ce47f63a",
       "rows": [
        [
         "0",
         "5",
         "Antioquia",
         "2020",
         "Total",
         "6649401"
        ],
        [
         "1",
         "5",
         "Antioquia",
         "2021",
         "Total",
         "6726219"
        ],
        [
         "2",
         "5",
         "Antioquia",
         "2022",
         "Total",
         "6787846"
        ],
        [
         "3",
         "5",
         "Antioquia",
         "2023",
         "Total",
         "6848360"
        ],
        [
         "4",
         "5",
         "Antioquia",
         "2024",
         "Total",
         "6903721"
        ]
       ],
       "shape": {
        "columns": 5,
        "rows": 5
       }
      },
      "text/html": [
       "<div>\n",
       "<style scoped>\n",
       "    .dataframe tbody tr th:only-of-type {\n",
       "        vertical-align: middle;\n",
       "    }\n",
       "\n",
       "    .dataframe tbody tr th {\n",
       "        vertical-align: top;\n",
       "    }\n",
       "\n",
       "    .dataframe thead th {\n",
       "        text-align: right;\n",
       "    }\n",
       "</style>\n",
       "<table border=\"1\" class=\"dataframe\">\n",
       "  <thead>\n",
       "    <tr style=\"text-align: right;\">\n",
       "      <th></th>\n",
       "      <th>DP</th>\n",
       "      <th>DPNOM</th>\n",
       "      <th>Year</th>\n",
       "      <th>ÁREA GEOGRÁFICA</th>\n",
       "      <th>Población</th>\n",
       "    </tr>\n",
       "  </thead>\n",
       "  <tbody>\n",
       "    <tr>\n",
       "      <th>0</th>\n",
       "      <td>5</td>\n",
       "      <td>Antioquia</td>\n",
       "      <td>2020</td>\n",
       "      <td>Total</td>\n",
       "      <td>6649401</td>\n",
       "    </tr>\n",
       "    <tr>\n",
       "      <th>1</th>\n",
       "      <td>5</td>\n",
       "      <td>Antioquia</td>\n",
       "      <td>2021</td>\n",
       "      <td>Total</td>\n",
       "      <td>6726219</td>\n",
       "    </tr>\n",
       "    <tr>\n",
       "      <th>2</th>\n",
       "      <td>5</td>\n",
       "      <td>Antioquia</td>\n",
       "      <td>2022</td>\n",
       "      <td>Total</td>\n",
       "      <td>6787846</td>\n",
       "    </tr>\n",
       "    <tr>\n",
       "      <th>3</th>\n",
       "      <td>5</td>\n",
       "      <td>Antioquia</td>\n",
       "      <td>2023</td>\n",
       "      <td>Total</td>\n",
       "      <td>6848360</td>\n",
       "    </tr>\n",
       "    <tr>\n",
       "      <th>4</th>\n",
       "      <td>5</td>\n",
       "      <td>Antioquia</td>\n",
       "      <td>2024</td>\n",
       "      <td>Total</td>\n",
       "      <td>6903721</td>\n",
       "    </tr>\n",
       "  </tbody>\n",
       "</table>\n",
       "</div>"
      ],
      "text/plain": [
       "   DP      DPNOM  Year ÁREA GEOGRÁFICA  Población\n",
       "0   5  Antioquia  2020           Total    6649401\n",
       "1   5  Antioquia  2021           Total    6726219\n",
       "2   5  Antioquia  2022           Total    6787846\n",
       "3   5  Antioquia  2023           Total    6848360\n",
       "4   5  Antioquia  2024           Total    6903721"
      ]
     },
     "execution_count": 23,
     "metadata": {},
     "output_type": "execute_result"
    }
   ],
   "source": [
    "import pandas as pd\n",
    "import matplotlib.pyplot as plt\n",
    "import seaborn as sns\n",
    "\n",
    "data = pd.read_excel('poblacion2050.xlsx')\n",
    "data = data.rename(columns={'AÑO': 'Year'})\n",
    "\n",
    "data.head(5)"
   ]
  },
  {
   "cell_type": "code",
   "execution_count": 13,
   "id": "31c05c78",
   "metadata": {},
   "outputs": [
    {
     "data": {
      "application/vnd.microsoft.datawrangler.viewer.v0+json": {
       "columns": [
        {
         "name": "index",
         "rawType": "object",
         "type": "string"
        },
        {
         "name": "0",
         "rawType": "int64",
         "type": "integer"
        }
       ],
       "ref": "35ffa702-f2d9-41a7-b5db-b93b8107c9b6",
       "rows": [
        [
         "DP",
         "0"
        ],
        [
         "DPNOM",
         "0"
        ],
        [
         "AÑO",
         "0"
        ],
        [
         "ÁREA GEOGRÁFICA",
         "0"
        ],
        [
         "Población",
         "0"
        ]
       ],
       "shape": {
        "columns": 1,
        "rows": 5
       }
      },
      "text/plain": [
       "DP                 0\n",
       "DPNOM              0\n",
       "AÑO                0\n",
       "ÁREA GEOGRÁFICA    0\n",
       "Población          0\n",
       "dtype: int64"
      ]
     },
     "execution_count": 13,
     "metadata": {},
     "output_type": "execute_result"
    }
   ],
   "source": [
    "data.isnull().sum()"
   ]
  },
  {
   "cell_type": "code",
   "execution_count": 14,
   "id": "0366cbb9",
   "metadata": {},
   "outputs": [
    {
     "name": "stdout",
     "output_type": "stream",
     "text": [
      "<class 'pandas.core.frame.DataFrame'>\n",
      "RangeIndex: 165 entries, 0 to 164\n",
      "Data columns (total 5 columns):\n",
      " #   Column           Non-Null Count  Dtype \n",
      "---  ------           --------------  ----- \n",
      " 0   DP               165 non-null    int64 \n",
      " 1   DPNOM            165 non-null    object\n",
      " 2   AÑO              165 non-null    int64 \n",
      " 3   ÁREA GEOGRÁFICA  165 non-null    object\n",
      " 4   Población        165 non-null    int64 \n",
      "dtypes: int64(3), object(2)\n",
      "memory usage: 6.6+ KB\n"
     ]
    }
   ],
   "source": [
    "data.info()"
   ]
  },
  {
   "cell_type": "code",
   "execution_count": 15,
   "id": "471e4a88",
   "metadata": {},
   "outputs": [
    {
     "data": {
      "application/vnd.microsoft.datawrangler.viewer.v0+json": {
       "columns": [
        {
         "name": "index",
         "rawType": "object",
         "type": "string"
        },
        {
         "name": "DP",
         "rawType": "float64",
         "type": "float"
        },
        {
         "name": "AÑO",
         "rawType": "float64",
         "type": "float"
        },
        {
         "name": "Población",
         "rawType": "float64",
         "type": "float"
        }
       ],
       "ref": "135771f3-8be9-420f-a684-6e2bd21a8f6a",
       "rows": [
        [
         "count",
         "165.0",
         "165.0",
         "165.0"
        ],
        [
         "mean",
         "52.15151515151515",
         "2022.0",
         "1564358.6181818182"
        ],
        [
         "std",
         "30.884443566262203",
         "1.4185186364483264",
         "1785126.5344816989"
        ],
        [
         "min",
         "5.0",
         "2020.0",
         "43188.0"
        ],
        [
         "25%",
         "20.0",
         "2021.0",
         "418267.0"
        ],
        [
         "50%",
         "52.0",
         "2022.0",
         "1113810.0"
        ],
        [
         "75%",
         "81.0",
         "2023.0",
         "1709570.0"
        ],
        [
         "max",
         "99.0",
         "2024.0",
         "7929539.0"
        ]
       ],
       "shape": {
        "columns": 3,
        "rows": 8
       }
      },
      "text/html": [
       "<div>\n",
       "<style scoped>\n",
       "    .dataframe tbody tr th:only-of-type {\n",
       "        vertical-align: middle;\n",
       "    }\n",
       "\n",
       "    .dataframe tbody tr th {\n",
       "        vertical-align: top;\n",
       "    }\n",
       "\n",
       "    .dataframe thead th {\n",
       "        text-align: right;\n",
       "    }\n",
       "</style>\n",
       "<table border=\"1\" class=\"dataframe\">\n",
       "  <thead>\n",
       "    <tr style=\"text-align: right;\">\n",
       "      <th></th>\n",
       "      <th>DP</th>\n",
       "      <th>AÑO</th>\n",
       "      <th>Población</th>\n",
       "    </tr>\n",
       "  </thead>\n",
       "  <tbody>\n",
       "    <tr>\n",
       "      <th>count</th>\n",
       "      <td>165.000000</td>\n",
       "      <td>165.000000</td>\n",
       "      <td>1.650000e+02</td>\n",
       "    </tr>\n",
       "    <tr>\n",
       "      <th>mean</th>\n",
       "      <td>52.151515</td>\n",
       "      <td>2022.000000</td>\n",
       "      <td>1.564359e+06</td>\n",
       "    </tr>\n",
       "    <tr>\n",
       "      <th>std</th>\n",
       "      <td>30.884444</td>\n",
       "      <td>1.418519</td>\n",
       "      <td>1.785127e+06</td>\n",
       "    </tr>\n",
       "    <tr>\n",
       "      <th>min</th>\n",
       "      <td>5.000000</td>\n",
       "      <td>2020.000000</td>\n",
       "      <td>4.318800e+04</td>\n",
       "    </tr>\n",
       "    <tr>\n",
       "      <th>25%</th>\n",
       "      <td>20.000000</td>\n",
       "      <td>2021.000000</td>\n",
       "      <td>4.182670e+05</td>\n",
       "    </tr>\n",
       "    <tr>\n",
       "      <th>50%</th>\n",
       "      <td>52.000000</td>\n",
       "      <td>2022.000000</td>\n",
       "      <td>1.113810e+06</td>\n",
       "    </tr>\n",
       "    <tr>\n",
       "      <th>75%</th>\n",
       "      <td>81.000000</td>\n",
       "      <td>2023.000000</td>\n",
       "      <td>1.709570e+06</td>\n",
       "    </tr>\n",
       "    <tr>\n",
       "      <th>max</th>\n",
       "      <td>99.000000</td>\n",
       "      <td>2024.000000</td>\n",
       "      <td>7.929539e+06</td>\n",
       "    </tr>\n",
       "  </tbody>\n",
       "</table>\n",
       "</div>"
      ],
      "text/plain": [
       "               DP          AÑO     Población\n",
       "count  165.000000   165.000000  1.650000e+02\n",
       "mean    52.151515  2022.000000  1.564359e+06\n",
       "std     30.884444     1.418519  1.785127e+06\n",
       "min      5.000000  2020.000000  4.318800e+04\n",
       "25%     20.000000  2021.000000  4.182670e+05\n",
       "50%     52.000000  2022.000000  1.113810e+06\n",
       "75%     81.000000  2023.000000  1.709570e+06\n",
       "max     99.000000  2024.000000  7.929539e+06"
      ]
     },
     "execution_count": 15,
     "metadata": {},
     "output_type": "execute_result"
    }
   ],
   "source": [
    "data.describe()"
   ]
  },
  {
   "cell_type": "code",
   "execution_count": 24,
   "id": "2daa4a2b",
   "metadata": {},
   "outputs": [
    {
     "data": {
      "text/plain": [
       "(array([2019.5, 2020. , 2020.5, 2021. , 2021.5, 2022. , 2022.5, 2023. ,\n",
       "        2023.5, 2024. , 2024.5]),\n",
       " [Text(2019.5, 0, '2019.5'),\n",
       "  Text(2020.0, 0, '2020.0'),\n",
       "  Text(2020.5, 0, '2020.5'),\n",
       "  Text(2021.0, 0, '2021.0'),\n",
       "  Text(2021.5, 0, '2021.5'),\n",
       "  Text(2022.0, 0, '2022.0'),\n",
       "  Text(2022.5, 0, '2022.5'),\n",
       "  Text(2023.0, 0, '2023.0'),\n",
       "  Text(2023.5, 0, '2023.5'),\n",
       "  Text(2024.0, 0, '2024.0'),\n",
       "  Text(2024.5, 0, '2024.5')])"
      ]
     },
     "execution_count": 24,
     "metadata": {},
     "output_type": "execute_result"
    },
    {
     "data": {
      "image/png": "[encoded data removed]",
      "text/plain": [
       "<Figure size 640x480 with 1 Axes>"
      ]
     },
     "metadata": {},
     "output_type": "display_data"
    }
   ],
   "source": [
    "sns.histplot(data['Year'], bins=10)\n",
    "plt.xticks(rotation=45)\n"
   ]
  },
  {
   "cell_type": "code",
   "execution_count": null,
   "id": "1e509222",
   "metadata": {},
   "outputs": [],
   "source": []
  }
 ],
 "metadata": {
  "kernelspec": {
   "display_name": "Python 3",
   "language": "python",
   "name": "python3"
  },
  "language_info": {
   "codemirror_mode": {
    "name": "ipython",
    "version": 3
   },
   "file_extension": ".py",
   "mimetype": "text/x-python",
   "name": "python",
   "nbconvert_exporter": "python",
   "pygments_lexer": "ipython3",
   "version": "3.12.1"
  }
 },
 "nbformat": 4,
 "nbformat_minor": 5
}
