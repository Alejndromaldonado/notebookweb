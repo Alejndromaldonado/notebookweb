{
 "cells": [
  {
   "cell_type": "markdown",
   "id": "0b976154",
   "metadata": {},
   "source": [
    "# Informe Empresarial\n",
    "\n",
    "## Publicando mi Notebook\n",
    "\n",
    "---\n",
    "\n",
    "**Empresa:**  \n",
    "**Fecha:**  \n",
    "**Autor:**  \n",
    "\n",
    "---\n",
    "\n",
    "Este informe presenta el proceso y las consideraciones para la publicación del Notebook, detallando los pasos realizados, los resultados obtenidos y las recomendaciones para futuras implementaciones."
   ]
  },
  {
   "cell_type": "code",
   "execution_count": 8,
   "id": "c504599c",
   "metadata": {},
   "outputs": [
    {
     "data": {
      "application/vnd.microsoft.datawrangler.viewer.v0+json": {
       "columns": [
        {
         "name": "index",
         "rawType": "int64",
         "type": "integer"
        },
        {
         "name": "Bancarizado",
         "rawType": "object",
         "type": "string"
        },
        {
         "name": "CodigoDepartamentoAtencion",
         "rawType": "int64",
         "type": "integer"
        },
        {
         "name": "CodigoMunicipioAtencion",
         "rawType": "int64",
         "type": "integer"
        },
        {
         "name": "Discapacidad",
         "rawType": "object",
         "type": "string"
        },
        {
         "name": "EstadoBeneficiario",
         "rawType": "object",
         "type": "string"
        },
        {
         "name": "Etnia",
         "rawType": "object",
         "type": "string"
        },
        {
         "name": "FechaInscripcionBeneficiario",
         "rawType": "object",
         "type": "string"
        },
        {
         "name": "Genero",
         "rawType": "object",
         "type": "string"
        },
        {
         "name": "NivelEscolaridad",
         "rawType": "object",
         "type": "string"
        },
        {
         "name": "NombreDepartamentoAtencion",
         "rawType": "object",
         "type": "string"
        },
        {
         "name": "NombreMunicipioAtencion",
         "rawType": "object",
         "type": "string"
        },
        {
         "name": "Pais",
         "rawType": "object",
         "type": "string"
        },
        {
         "name": "TipoAsignacionBeneficio",
         "rawType": "object",
         "type": "string"
        },
        {
         "name": "TipoBeneficio",
         "rawType": "object",
         "type": "string"
        },
        {
         "name": "TipoDocumento",
         "rawType": "object",
         "type": "string"
        },
        {
         "name": "TipoPoblacion",
         "rawType": "object",
         "type": "string"
        },
        {
         "name": "RangoBeneficioConsolidadoAsignado",
         "rawType": "object",
         "type": "string"
        },
        {
         "name": "RangoUltimoBeneficioAsignado",
         "rawType": "object",
         "type": "string"
        },
        {
         "name": "FechaUltimoBeneficioAsignado",
         "rawType": "object",
         "type": "string"
        },
        {
         "name": "RangoEdad",
         "rawType": "object",
         "type": "string"
        },
        {
         "name": "Titular",
         "rawType": "object",
         "type": "string"
        },
        {
         "name": "CantidadDeBeneficiarios",
         "rawType": "int64",
         "type": "integer"
        }
       ],
       "ref": "6c99080e-b487-40d1-b1a9-6c96b2b81b2e",
       "rows": [
        [
         "0",
         "SI",
         "8",
         "8421",
         "NO",
         "ACTIVO",
         "AFROCOLOMBIANO – NEGRO",
         "2012-12-01",
         "Hombre",
         "ND",
         "ATLANTICO",
         "LURUACO",
         "ND",
         "MONETARIO",
         "ND",
         "CC",
         "UNIDOS",
         "4.500.001 - 6.000.000",
         "0 - 1.300.000",
         "2018-01-01",
         "30-49",
         "SI",
         "1"
        ],
        [
         "1",
         "NO",
         "13",
         "13673",
         "NO",
         "NO ACTIVO",
         "ND",
         "2012-11-01",
         "Mujer",
         "ND",
         "BOLIVAR",
         "SANTA CATALINA",
         "ND",
         "ND",
         "ND",
         "TI",
         "ND",
         "0 - 1.500.000",
         "0 - 1.300.000",
         "1900-01-01",
         "18-29",
         "NO",
         "21"
        ],
        [
         "2",
         "SI",
         "8",
         "8421",
         "NO",
         "ACTIVO",
         "AFROCOLOMBIANO – NEGRO",
         "2012-12-01",
         "Hombre",
         "ND",
         "ATLANTICO",
         "LURUACO",
         "ND",
         "MONETARIO",
         "ND",
         "CC",
         "UNIDOS",
         "4.500.001 - 6.000.000",
         "0 - 1.300.000",
         "2018-01-01",
         "30-49",
         "SI",
         "1"
        ],
        [
         "3",
         "SI",
         "8",
         "8421",
         "NO",
         "ACTIVO",
         "AFROCOLOMBIANO – NEGRO",
         "2012-12-01",
         "Hombre",
         "ND",
         "ATLANTICO",
         "LURUACO",
         "ND",
         "MONETARIO",
         "ND",
         "CC",
         "UNIDOS",
         "4.500.001 - 6.000.000",
         "0 - 1.300.000",
         "2018-01-01",
         "30-49",
         "SI",
         "1"
        ],
        [
         "4",
         "SI",
         "8",
         "8421",
         "NO",
         "ACTIVO",
         "AFROCOLOMBIANO – NEGRO",
         "2012-12-01",
         "Hombre",
         "ND",
         "ATLANTICO",
         "LURUACO",
         "ND",
         "MONETARIO",
         "ND",
         "CC",
         "UNIDOS",
         "4.500.001 - 6.000.000",
         "0 - 1.300.000",
         "2018-01-01",
         "30-49",
         "SI",
         "1"
        ]
       ],
       "shape": {
        "columns": 22,
        "rows": 5
       }
      },
      "text/html": [
       "<div>\n",
       "<style scoped>\n",
       "    .dataframe tbody tr th:only-of-type {\n",
       "        vertical-align: middle;\n",
       "    }\n",
       "\n",
       "    .dataframe tbody tr th {\n",
       "        vertical-align: top;\n",
       "    }\n",
       "\n",
       "    .dataframe thead th {\n",
       "        text-align: right;\n",
       "    }\n",
       "</style>\n",
       "<table border=\"1\" class=\"dataframe\">\n",
       "  <thead>\n",
       "    <tr style=\"text-align: right;\">\n",
       "      <th></th>\n",
       "      <th>Bancarizado</th>\n",
       "      <th>CodigoDepartamentoAtencion</th>\n",
       "      <th>CodigoMunicipioAtencion</th>\n",
       "      <th>Discapacidad</th>\n",
       "      <th>EstadoBeneficiario</th>\n",
       "      <th>Etnia</th>\n",
       "      <th>FechaInscripcionBeneficiario</th>\n",
       "      <th>Genero</th>\n",
       "      <th>NivelEscolaridad</th>\n",
       "      <th>NombreDepartamentoAtencion</th>\n",
       "      <th>...</th>\n",
       "      <th>TipoAsignacionBeneficio</th>\n",
       "      <th>TipoBeneficio</th>\n",
       "      <th>TipoDocumento</th>\n",
       "      <th>TipoPoblacion</th>\n",
       "      <th>RangoBeneficioConsolidadoAsignado</th>\n",
       "      <th>RangoUltimoBeneficioAsignado</th>\n",
       "      <th>FechaUltimoBeneficioAsignado</th>\n",
       "      <th>RangoEdad</th>\n",
       "      <th>Titular</th>\n",
       "      <th>CantidadDeBeneficiarios</th>\n",
       "    </tr>\n",
       "  </thead>\n",
       "  <tbody>\n",
       "    <tr>\n",
       "      <th>0</th>\n",
       "      <td>SI</td>\n",
       "      <td>8</td>\n",
       "      <td>8421</td>\n",
       "      <td>NO</td>\n",
       "      <td>ACTIVO</td>\n",
       "      <td>AFROCOLOMBIANO – NEGRO</td>\n",
       "      <td>2012-12-01</td>\n",
       "      <td>Hombre</td>\n",
       "      <td>ND</td>\n",
       "      <td>ATLANTICO</td>\n",
       "      <td>...</td>\n",
       "      <td>MONETARIO</td>\n",
       "      <td>ND</td>\n",
       "      <td>CC</td>\n",
       "      <td>UNIDOS</td>\n",
       "      <td>4.500.001 - 6.000.000</td>\n",
       "      <td>0 - 1.300.000</td>\n",
       "      <td>2018-01-01</td>\n",
       "      <td>30-49</td>\n",
       "      <td>SI</td>\n",
       "      <td>1</td>\n",
       "    </tr>\n",
       "    <tr>\n",
       "      <th>1</th>\n",
       "      <td>NO</td>\n",
       "      <td>13</td>\n",
       "      <td>13673</td>\n",
       "      <td>NO</td>\n",
       "      <td>NO ACTIVO</td>\n",
       "      <td>ND</td>\n",
       "      <td>2012-11-01</td>\n",
       "      <td>Mujer</td>\n",
       "      <td>ND</td>\n",
       "      <td>BOLIVAR</td>\n",
       "      <td>...</td>\n",
       "      <td>ND</td>\n",
       "      <td>ND</td>\n",
       "      <td>TI</td>\n",
       "      <td>ND</td>\n",
       "      <td>0 - 1.500.000</td>\n",
       "      <td>0 - 1.300.000</td>\n",
       "      <td>1900-01-01</td>\n",
       "      <td>18-29</td>\n",
       "      <td>NO</td>\n",
       "      <td>21</td>\n",
       "    </tr>\n",
       "    <tr>\n",
       "      <th>2</th>\n",
       "      <td>SI</td>\n",
       "      <td>8</td>\n",
       "      <td>8421</td>\n",
       "      <td>NO</td>\n",
       "      <td>ACTIVO</td>\n",
       "      <td>AFROCOLOMBIANO – NEGRO</td>\n",
       "      <td>2012-12-01</td>\n",
       "      <td>Hombre</td>\n",
       "      <td>ND</td>\n",
       "      <td>ATLANTICO</td>\n",
       "      <td>...</td>\n",
       "      <td>MONETARIO</td>\n",
       "      <td>ND</td>\n",
       "      <td>CC</td>\n",
       "      <td>UNIDOS</td>\n",
       "      <td>4.500.001 - 6.000.000</td>\n",
       "      <td>0 - 1.300.000</td>\n",
       "      <td>2018-01-01</td>\n",
       "      <td>30-49</td>\n",
       "      <td>SI</td>\n",
       "      <td>1</td>\n",
       "    </tr>\n",
       "    <tr>\n",
       "      <th>3</th>\n",
       "      <td>SI</td>\n",
       "      <td>8</td>\n",
       "      <td>8421</td>\n",
       "      <td>NO</td>\n",
       "      <td>ACTIVO</td>\n",
       "      <td>AFROCOLOMBIANO – NEGRO</td>\n",
       "      <td>2012-12-01</td>\n",
       "      <td>Hombre</td>\n",
       "      <td>ND</td>\n",
       "      <td>ATLANTICO</td>\n",
       "      <td>...</td>\n",
       "      <td>MONETARIO</td>\n",
       "      <td>ND</td>\n",
       "      <td>CC</td>\n",
       "      <td>UNIDOS</td>\n",
       "      <td>4.500.001 - 6.000.000</td>\n",
       "      <td>0 - 1.300.000</td>\n",
       "      <td>2018-01-01</td>\n",
       "      <td>30-49</td>\n",
       "      <td>SI</td>\n",
       "      <td>1</td>\n",
       "    </tr>\n",
       "    <tr>\n",
       "      <th>4</th>\n",
       "      <td>SI</td>\n",
       "      <td>8</td>\n",
       "      <td>8421</td>\n",
       "      <td>NO</td>\n",
       "      <td>ACTIVO</td>\n",
       "      <td>AFROCOLOMBIANO – NEGRO</td>\n",
       "      <td>2012-12-01</td>\n",
       "      <td>Hombre</td>\n",
       "      <td>ND</td>\n",
       "      <td>ATLANTICO</td>\n",
       "      <td>...</td>\n",
       "      <td>MONETARIO</td>\n",
       "      <td>ND</td>\n",
       "      <td>CC</td>\n",
       "      <td>UNIDOS</td>\n",
       "      <td>4.500.001 - 6.000.000</td>\n",
       "      <td>0 - 1.300.000</td>\n",
       "      <td>2018-01-01</td>\n",
       "      <td>30-49</td>\n",
       "      <td>SI</td>\n",
       "      <td>1</td>\n",
       "    </tr>\n",
       "  </tbody>\n",
       "</table>\n",
       "<p>5 rows × 22 columns</p>\n",
       "</div>"
      ],
      "text/plain": [
       "  Bancarizado  CodigoDepartamentoAtencion  CodigoMunicipioAtencion  \\\n",
       "0          SI                           8                     8421   \n",
       "1          NO                          13                    13673   \n",
       "2          SI                           8                     8421   \n",
       "3          SI                           8                     8421   \n",
       "4          SI                           8                     8421   \n",
       "\n",
       "  Discapacidad EstadoBeneficiario                   Etnia  \\\n",
       "0           NO             ACTIVO  AFROCOLOMBIANO – NEGRO   \n",
       "1           NO          NO ACTIVO                      ND   \n",
       "2           NO             ACTIVO  AFROCOLOMBIANO – NEGRO   \n",
       "3           NO             ACTIVO  AFROCOLOMBIANO – NEGRO   \n",
       "4           NO             ACTIVO  AFROCOLOMBIANO – NEGRO   \n",
       "\n",
       "  FechaInscripcionBeneficiario  Genero NivelEscolaridad  \\\n",
       "0                   2012-12-01  Hombre               ND   \n",
       "1                   2012-11-01   Mujer               ND   \n",
       "2                   2012-12-01  Hombre               ND   \n",
       "3                   2012-12-01  Hombre               ND   \n",
       "4                   2012-12-01  Hombre               ND   \n",
       "\n",
       "  NombreDepartamentoAtencion  ... TipoAsignacionBeneficio TipoBeneficio  \\\n",
       "0                  ATLANTICO  ...               MONETARIO            ND   \n",
       "1                    BOLIVAR  ...                      ND            ND   \n",
       "2                  ATLANTICO  ...               MONETARIO            ND   \n",
       "3                  ATLANTICO  ...               MONETARIO            ND   \n",
       "4                  ATLANTICO  ...               MONETARIO            ND   \n",
       "\n",
       "  TipoDocumento TipoPoblacion RangoBeneficioConsolidadoAsignado  \\\n",
       "0            CC        UNIDOS             4.500.001 - 6.000.000   \n",
       "1            TI            ND                     0 - 1.500.000   \n",
       "2            CC        UNIDOS             4.500.001 - 6.000.000   \n",
       "3            CC        UNIDOS             4.500.001 - 6.000.000   \n",
       "4            CC        UNIDOS             4.500.001 - 6.000.000   \n",
       "\n",
       "  RangoUltimoBeneficioAsignado FechaUltimoBeneficioAsignado RangoEdad Titular  \\\n",
       "0                0 - 1.300.000                   2018-01-01     30-49      SI   \n",
       "1                0 - 1.300.000                   1900-01-01     18-29      NO   \n",
       "2                0 - 1.300.000                   2018-01-01     30-49      SI   \n",
       "3                0 - 1.300.000                   2018-01-01     30-49      SI   \n",
       "4                0 - 1.300.000                   2018-01-01     30-49      SI   \n",
       "\n",
       "  CantidadDeBeneficiarios  \n",
       "0                       1  \n",
       "1                      21  \n",
       "2                       1  \n",
       "3                       1  \n",
       "4                       1  \n",
       "\n",
       "[5 rows x 22 columns]"
      ]
     },
     "execution_count": 8,
     "metadata": {},
     "output_type": "execute_result"
    }
   ],
   "source": [
    "import pandas as pd\n",
    "import matplotlib.pyplot as plt\n",
    "import seaborn as sns\n",
    "\n",
    "data = pd.read_csv('Benef_F_Accion2025.csv')\n",
    "data.head(5)"
   ]
  },
  {
   "cell_type": "code",
   "execution_count": 6,
   "id": "31c05c78",
   "metadata": {},
   "outputs": [
    {
     "data": {
      "application/vnd.microsoft.datawrangler.viewer.v0+json": {
       "columns": [
        {
         "name": "index",
         "rawType": "object",
         "type": "string"
        },
        {
         "name": "0",
         "rawType": "int64",
         "type": "integer"
        }
       ],
       "ref": "5611fad8-dffd-403c-8bd9-0f6f6f68727c",
       "rows": [
        [
         "Bancarizado",
         "60171"
        ],
        [
         "CodigoDepartamentoAtencion",
         "0"
        ],
        [
         "CodigoMunicipioAtencion",
         "0"
        ],
        [
         "Discapacidad",
         "0"
        ],
        [
         "EstadoBeneficiario",
         "0"
        ],
        [
         "Etnia",
         "0"
        ],
        [
         "FechaInscripcionBeneficiario",
         "0"
        ],
        [
         "Genero",
         "0"
        ],
        [
         "NivelEscolaridad",
         "0"
        ],
        [
         "NombreDepartamentoAtencion",
         "0"
        ],
        [
         "NombreMunicipioAtencion",
         "0"
        ],
        [
         "Pais",
         "1"
        ],
        [
         "TipoAsignacionBeneficio",
         "0"
        ],
        [
         "TipoBeneficio",
         "0"
        ],
        [
         "TipoDocumento",
         "0"
        ],
        [
         "TipoPoblacion",
         "0"
        ],
        [
         "RangoBeneficioConsolidadoAsignado",
         "0"
        ],
        [
         "RangoUltimoBeneficioAsignado",
         "0"
        ],
        [
         "FechaUltimoBeneficioAsignado",
         "0"
        ],
        [
         "RangoEdad",
         "0"
        ],
        [
         "Titular",
         "0"
        ],
        [
         "CantidadDeBeneficiarios",
         "0"
        ]
       ],
       "shape": {
        "columns": 1,
        "rows": 22
       }
      },
      "text/plain": [
       "Bancarizado                          60171\n",
       "CodigoDepartamentoAtencion               0\n",
       "CodigoMunicipioAtencion                  0\n",
       "Discapacidad                             0\n",
       "EstadoBeneficiario                       0\n",
       "Etnia                                    0\n",
       "FechaInscripcionBeneficiario             0\n",
       "Genero                                   0\n",
       "NivelEscolaridad                         0\n",
       "NombreDepartamentoAtencion               0\n",
       "NombreMunicipioAtencion                  0\n",
       "Pais                                     1\n",
       "TipoAsignacionBeneficio                  0\n",
       "TipoBeneficio                            0\n",
       "TipoDocumento                            0\n",
       "TipoPoblacion                            0\n",
       "RangoBeneficioConsolidadoAsignado        0\n",
       "RangoUltimoBeneficioAsignado             0\n",
       "FechaUltimoBeneficioAsignado             0\n",
       "RangoEdad                                0\n",
       "Titular                                  0\n",
       "CantidadDeBeneficiarios                  0\n",
       "dtype: int64"
      ]
     },
     "execution_count": 6,
     "metadata": {},
     "output_type": "execute_result"
    }
   ],
   "source": [
    "data.isnull().sum()"
   ]
  },
  {
   "cell_type": "code",
   "execution_count": 3,
   "id": "0366cbb9",
   "metadata": {},
   "outputs": [
    {
     "name": "stdout",
     "output_type": "stream",
     "text": [
      "<class 'pandas.core.frame.DataFrame'>\n",
      "RangeIndex: 3958594 entries, 0 to 3958593\n",
      "Data columns (total 22 columns):\n",
      " #   Column                             Dtype \n",
      "---  ------                             ----- \n",
      " 0   Bancarizado                        object\n",
      " 1   CodigoDepartamentoAtencion         int64 \n",
      " 2   CodigoMunicipioAtencion            int64 \n",
      " 3   Discapacidad                       object\n",
      " 4   EstadoBeneficiario                 object\n",
      " 5   Etnia                              object\n",
      " 6   FechaInscripcionBeneficiario       object\n",
      " 7   Genero                             object\n",
      " 8   NivelEscolaridad                   object\n",
      " 9   NombreDepartamentoAtencion         object\n",
      " 10  NombreMunicipioAtencion            object\n",
      " 11  Pais                               object\n",
      " 12  TipoAsignacionBeneficio            object\n",
      " 13  TipoBeneficio                      object\n",
      " 14  TipoDocumento                      object\n",
      " 15  TipoPoblacion                      object\n",
      " 16  RangoBeneficioConsolidadoAsignado  object\n",
      " 17  RangoUltimoBeneficioAsignado       object\n",
      " 18  FechaUltimoBeneficioAsignado       object\n",
      " 19  RangoEdad                          object\n",
      " 20  Titular                            object\n",
      " 21  CantidadDeBeneficiarios            int64 \n",
      "dtypes: int64(3), object(19)\n",
      "memory usage: 664.4+ MB\n"
     ]
    }
   ],
   "source": [
    "data.info()"
   ]
  },
  {
   "cell_type": "code",
   "execution_count": 5,
   "id": "471e4a88",
   "metadata": {},
   "outputs": [
    {
     "data": {
      "application/vnd.microsoft.datawrangler.viewer.v0+json": {
       "columns": [
        {
         "name": "index",
         "rawType": "object",
         "type": "string"
        },
        {
         "name": "CodigoDepartamentoAtencion",
         "rawType": "float64",
         "type": "float"
        },
        {
         "name": "CodigoMunicipioAtencion",
         "rawType": "float64",
         "type": "float"
        },
        {
         "name": "CantidadDeBeneficiarios",
         "rawType": "float64",
         "type": "float"
        }
       ],
       "ref": "c39f8628-0e11-499a-8665-cd726b2d1fb1",
       "rows": [
        [
         "count",
         "3958594.0",
         "3958594.0",
         "3958594.0"
        ],
        [
         "mean",
         "37.200961250383344",
         "37545.53971839497",
         "2.5882477465483955"
        ],
        [
         "std",
         "25.99999068483087",
         "25994.757205554048",
         "31.443266063067227"
        ],
        [
         "min",
         "5.0",
         "5001.0",
         "1.0"
        ],
        [
         "25%",
         "15.0",
         "15176.0",
         "1.0"
        ],
        [
         "50%",
         "25.0",
         "25817.0",
         "1.0"
        ],
        [
         "75%",
         "54.0",
         "54810.0",
         "1.0"
        ],
        [
         "max",
         "99.0",
         "99773.0",
         "14701.0"
        ]
       ],
       "shape": {
        "columns": 3,
        "rows": 8
       }
      },
      "text/html": [
       "<div>\n",
       "<style scoped>\n",
       "    .dataframe tbody tr th:only-of-type {\n",
       "        vertical-align: middle;\n",
       "    }\n",
       "\n",
       "    .dataframe tbody tr th {\n",
       "        vertical-align: top;\n",
       "    }\n",
       "\n",
       "    .dataframe thead th {\n",
       "        text-align: right;\n",
       "    }\n",
       "</style>\n",
       "<table border=\"1\" class=\"dataframe\">\n",
       "  <thead>\n",
       "    <tr style=\"text-align: right;\">\n",
       "      <th></th>\n",
       "      <th>CodigoDepartamentoAtencion</th>\n",
       "      <th>CodigoMunicipioAtencion</th>\n",
       "      <th>CantidadDeBeneficiarios</th>\n",
       "    </tr>\n",
       "  </thead>\n",
       "  <tbody>\n",
       "    <tr>\n",
       "      <th>count</th>\n",
       "      <td>3.958594e+06</td>\n",
       "      <td>3.958594e+06</td>\n",
       "      <td>3.958594e+06</td>\n",
       "    </tr>\n",
       "    <tr>\n",
       "      <th>mean</th>\n",
       "      <td>3.720096e+01</td>\n",
       "      <td>3.754554e+04</td>\n",
       "      <td>2.588248e+00</td>\n",
       "    </tr>\n",
       "    <tr>\n",
       "      <th>std</th>\n",
       "      <td>2.599999e+01</td>\n",
       "      <td>2.599476e+04</td>\n",
       "      <td>3.144327e+01</td>\n",
       "    </tr>\n",
       "    <tr>\n",
       "      <th>min</th>\n",
       "      <td>5.000000e+00</td>\n",
       "      <td>5.001000e+03</td>\n",
       "      <td>1.000000e+00</td>\n",
       "    </tr>\n",
       "    <tr>\n",
       "      <th>25%</th>\n",
       "      <td>1.500000e+01</td>\n",
       "      <td>1.517600e+04</td>\n",
       "      <td>1.000000e+00</td>\n",
       "    </tr>\n",
       "    <tr>\n",
       "      <th>50%</th>\n",
       "      <td>2.500000e+01</td>\n",
       "      <td>2.581700e+04</td>\n",
       "      <td>1.000000e+00</td>\n",
       "    </tr>\n",
       "    <tr>\n",
       "      <th>75%</th>\n",
       "      <td>5.400000e+01</td>\n",
       "      <td>5.481000e+04</td>\n",
       "      <td>1.000000e+00</td>\n",
       "    </tr>\n",
       "    <tr>\n",
       "      <th>max</th>\n",
       "      <td>9.900000e+01</td>\n",
       "      <td>9.977300e+04</td>\n",
       "      <td>1.470100e+04</td>\n",
       "    </tr>\n",
       "  </tbody>\n",
       "</table>\n",
       "</div>"
      ],
      "text/plain": [
       "       CodigoDepartamentoAtencion  CodigoMunicipioAtencion  \\\n",
       "count                3.958594e+06             3.958594e+06   \n",
       "mean                 3.720096e+01             3.754554e+04   \n",
       "std                  2.599999e+01             2.599476e+04   \n",
       "min                  5.000000e+00             5.001000e+03   \n",
       "25%                  1.500000e+01             1.517600e+04   \n",
       "50%                  2.500000e+01             2.581700e+04   \n",
       "75%                  5.400000e+01             5.481000e+04   \n",
       "max                  9.900000e+01             9.977300e+04   \n",
       "\n",
       "       CantidadDeBeneficiarios  \n",
       "count             3.958594e+06  \n",
       "mean              2.588248e+00  \n",
       "std               3.144327e+01  \n",
       "min               1.000000e+00  \n",
       "25%               1.000000e+00  \n",
       "50%               1.000000e+00  \n",
       "75%               1.000000e+00  \n",
       "max               1.470100e+04  "
      ]
     },
     "execution_count": 5,
     "metadata": {},
     "output_type": "execute_result"
    }
   ],
   "source": [
    "data.describe()"
   ]
  },
  {
   "cell_type": "code",
   "execution_count": 11,
   "id": "2daa4a2b",
   "metadata": {},
   "outputs": [
    {
     "data": {
      "text/plain": [
       "([0, 1, 2, 3, 4],\n",
       " [Text(0, 0, '4.500.001 - 6.000.000'),\n",
       "  Text(1, 0, '0 - 1.500.000'),\n",
       "  Text(2, 0, '> 6.000.001'),\n",
       "  Text(3, 0, '1.500.001 - 3.000.000'),\n",
       "  Text(4, 0, '3.000.001 - 4.500.000')])"
      ]
     },
     "execution_count": 11,
     "metadata": {},
     "output_type": "execute_result"
    },
    {
     "data": {
      "image/png": "[encoded data removed]",
      "text/plain": [
       "<Figure size 640x480 with 1 Axes>"
      ]
     },
     "metadata": {},
     "output_type": "display_data"
    }
   ],
   "source": [
    "sns.histplot(data['RangoBeneficioConsolidadoAsignado'], bins=10)\n",
    "plt.xticks(rotation=45)\n"
   ]
  },
  {
   "cell_type": "code",
   "execution_count": null,
   "id": "1e509222",
   "metadata": {},
   "outputs": [],
   "source": []
  }
 ],
 "metadata": {
  "kernelspec": {
   "display_name": "Python 3",
   "language": "python",
   "name": "python3"
  },
  "language_info": {
   "codemirror_mode": {
    "name": "ipython",
    "version": 3
   },
   "file_extension": ".py",
   "mimetype": "text/x-python",
   "name": "python",
   "nbconvert_exporter": "python",
   "pygments_lexer": "ipython3",
   "version": "3.12.1"
  }
 },
 "nbformat": 4,
 "nbformat_minor": 5
}
