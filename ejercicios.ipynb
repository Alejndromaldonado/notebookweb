{
 "cells": [
  {
   "cell_type": "markdown",
   "id": "0b976154",
   "metadata": {},
   "source": [
    "<!-- Encabezado con estilo -->\n",
    "<div align=\"center\" style=\"background: linear-gradient(90deg, #1e3c72, #2a5298); padding: 30px; border-radius: 15px; color: white;\">\n",
    "\n",
    "  <h1>📊 Informe Empresarial</h1>\n",
    "  <h3>Publicación de Jupyter Notebook en GitHub</h3>\n",
    "\n",
    "  <p>\n",
    "    <img src=\"https://img.shields.io/github/last-commit/USERNAME/REPO?style=for-the-badge&logo=github\" />\n",
    "    <img src=\"https://img.shields.io/github/stars/USERNAME/REPO?style=for-the-badge&color=yellow&logo=github\" />\n",
    "    <img src=\"https://img.shields.io/github/license/USERNAME/REPO?style=for-the-badge&color=green\" />\n",
    "  </p>\n",
    "</div>\n",
    "\n",
    "---\n",
    "\n",
    "## 🏢 Empresa: <span style=\"color:#2a5298\">[Nombre de la Empresa]</span>  \n",
    "## 📅 Fecha: *[Fecha actual]*  \n",
    "## 👤 Autor: *[Nombre del Autor]*  \n",
    "\n",
    "---\n",
    "\n",
    "<!-- Sección con tarjeta -->\n",
    "<div style=\"background:#f9f9f9; border-left: 6px solid #2a5298; padding: 15px; border-radius: 10px;\">\n",
    "\n",
    "### 📝 Resumen Ejecutivo  \n",
    "El presente informe documenta el proceso de **publicación de un Jupyter Notebook** en GitHub, resaltando la estrategia implementada, los resultados obtenidos y las recomendaciones futuras.  \n",
    "\n",
    "✅ Publicación limpia y accesible.  \n",
    "✅ Estilo moderno con Markdown avanzado.  \n",
    "✅ Uso de repositorio para colaboración.  \n",
    "\n",
    "</div>\n",
    "\n",
    "---\n",
    "\n",
    "## 🚀 Proceso de Implementación  \n",
    "\n",
    "<div style=\"display: grid; grid-template-columns: repeat(auto-fit, minmax(280px, 1fr)); gap: 20px;\">\n",
    "\n",
    "<div style=\"background:#eef6ff; padding:15px; border-radius:10px; box-shadow: 0 2px 6px rgba(0,0,0,0.1);\">\n",
    "<h4>🔧 1. Preparación del Notebook</h4>\n",
    "<ul>\n",
    "<li>Limpieza de celdas innecesarias</li>\n",
    "<li>Inclusión de títulos y descripciones claras</li>\n",
    "<li>Exportación en formato <code>.ipynb</code></li>\n",
    "</ul>\n",
    "</div>\n",
    "\n",
    "<div style=\"background:#fff3e6; padding:15px; border-radius:10px; box-shadow: 0 2px 6px rgba(0,0,0,0.1);\">\n",
    "<h4>🌐 2. Creación del Repositorio</h4>\n",
    "\n",
    "```bash\n",
    "git init\n",
    "git remote add origin https://github.com/USERNAME/REPO.git\n",
    "git add .\n",
    "git commit -m \"Publicación inicial\"\n",
    "git push -u origin main\n",
    "\n"
   ]
  },
  {
   "cell_type": "code",
   "execution_count": 36,
   "id": "c504599c",
   "metadata": {},
   "outputs": [
    {
     "data": {
      "text/html": [
       "\n",
       "<style>\n",
       ".container {\n",
       "    width: 80% !important;\n",
       "    margin: auto !important;\n",
       "}\n",
       ".output_area {\n",
       "    display: flex !important;\n",
       "    justify-content: center !important;\n",
       "}\n",
       ".widget-text, .widget-button, .widget-slider {\n",
       "    display: flex !important;\n",
       "    justify-content: center !important;\n",
       "    margin: 10px auto !important;\n",
       "}\n",
       ".widget-slider {\n",
       "    width: 50% !important;\n",
       "}\n",
       "</style>\n"
      ],
      "text/plain": [
       "<IPython.core.display.HTML object>"
      ]
     },
     "metadata": {},
     "output_type": "display_data"
    },
    {
     "data": {
      "application/vnd.jupyter.widget-view+json": {
       "model_id": "552355389dde45f19d8b868c4081341f",
       "version_major": 2,
       "version_minor": 0
      },
      "text/plain": [
       "VBox(layout=Layout(align_items='center', margin='auto', width='80%'))"
      ]
     },
     "metadata": {},
     "output_type": "display_data"
    }
   ],
   "source": [
    "# Importaciones básicas\n",
    "import pandas as pd\n",
    "import matplotlib.pyplot as plt\n",
    "import seaborn as sns\n",
    "import ipywidgets as widgets\n",
    "from IPython.display import display, HTML\n",
    "\n",
    "# Configuración general del estilo para centrar todo el contenido\n",
    "display(HTML(\"\"\"\n",
    "<style>\n",
    ".container {\n",
    "    width: 80% !important;\n",
    "    margin: auto !important;\n",
    "}\n",
    ".output_area {\n",
    "    display: flex !important;\n",
    "    justify-content: center !important;\n",
    "}\n",
    ".widget-text, .widget-button, .widget-slider {\n",
    "    display: flex !important;\n",
    "    justify-content: center !important;\n",
    "    margin: 10px auto !important;\n",
    "}\n",
    ".widget-slider {\n",
    "    width: 50% !important;\n",
    "}\n",
    "</style>\n",
    "\"\"\"))\n",
    "\n",
    "# Crear un contenedor principal\n",
    "main_container = widgets.VBox([], layout=widgets.Layout(\n",
    "    width='80%',\n",
    "    margin='auto',\n",
    "    align_items='center'\n",
    "))\n",
    "display(main_container)"
   ]
  },
  {
   "cell_type": "code",
   "execution_count": 37,
   "id": "471c82dd",
   "metadata": {},
   "outputs": [],
   "source": [
    "# Cargar y procesar datos\n",
    "data = pd.read_excel('poblacion2050.xlsx')\n",
    "data = data.rename(columns={'AÑO': 'Year'})\n",
    "\n",
    "# Crear un output widget para mostrar el DataFrame\n",
    "output_df = widgets.Output()\n",
    "with output_df:\n",
    "    display(data.head(5))\n",
    "\n",
    "# Agregar al contenedor principal\n",
    "main_container.children += (output_df,)\n",
    "\n",
    "# Crear outputs para información adicional\n",
    "output_info = widgets.Output()\n",
    "with output_info:\n",
    "    display(data.info())\n",
    "    \n",
    "output_null = widgets.Output()\n",
    "with output_null:\n",
    "    display(data.isnull().sum())\n",
    "    \n",
    "output_describe = widgets.Output()\n",
    "with output_describe:\n",
    "    display(data.describe())\n",
    "\n",
    "# Agregar al contenedor principal\n",
    "main_container.children += (output_info, output_null, output_describe)"
   ]
  },
  {
   "cell_type": "code",
   "execution_count": 38,
   "id": "31c05c78",
   "metadata": {},
   "outputs": [
    {
     "data": {
      "application/vnd.microsoft.datawrangler.viewer.v0+json": {
       "columns": [
        {
         "name": "index",
         "rawType": "object",
         "type": "string"
        },
        {
         "name": "0",
         "rawType": "int64",
         "type": "integer"
        }
       ],
       "ref": "e5ce9bdc-36bd-4370-9998-d0da40201dd4",
       "rows": [
        [
         "DP",
         "0"
        ],
        [
         "DPNOM",
         "0"
        ],
        [
         "Year",
         "0"
        ],
        [
         "ÁREA GEOGRÁFICA",
         "0"
        ],
        [
         "Población",
         "0"
        ]
       ],
       "shape": {
        "columns": 1,
        "rows": 5
       }
      },
      "text/plain": [
       "DP                 0\n",
       "DPNOM              0\n",
       "Year               0\n",
       "ÁREA GEOGRÁFICA    0\n",
       "Población          0\n",
       "dtype: int64"
      ]
     },
     "execution_count": 38,
     "metadata": {},
     "output_type": "execute_result"
    }
   ],
   "source": [
    "data.isnull().sum()"
   ]
  },
  {
   "cell_type": "code",
   "execution_count": 39,
   "id": "0366cbb9",
   "metadata": {},
   "outputs": [
    {
     "name": "stdout",
     "output_type": "stream",
     "text": [
      "<class 'pandas.core.frame.DataFrame'>\n",
      "RangeIndex: 165 entries, 0 to 164\n",
      "Data columns (total 5 columns):\n",
      " #   Column           Non-Null Count  Dtype \n",
      "---  ------           --------------  ----- \n",
      " 0   DP               165 non-null    int64 \n",
      " 1   DPNOM            165 non-null    object\n",
      " 2   Year             165 non-null    int64 \n",
      " 3   ÁREA GEOGRÁFICA  165 non-null    object\n",
      " 4   Población        165 non-null    int64 \n",
      "dtypes: int64(3), object(2)\n",
      "memory usage: 6.6+ KB\n"
     ]
    }
   ],
   "source": [
    "data.info()"
   ]
  },
  {
   "cell_type": "code",
   "execution_count": 40,
   "id": "471e4a88",
   "metadata": {},
   "outputs": [
    {
     "data": {
      "application/vnd.microsoft.datawrangler.viewer.v0+json": {
       "columns": [
        {
         "name": "index",
         "rawType": "object",
         "type": "string"
        },
        {
         "name": "DP",
         "rawType": "float64",
         "type": "float"
        },
        {
         "name": "Year",
         "rawType": "float64",
         "type": "float"
        },
        {
         "name": "Población",
         "rawType": "float64",
         "type": "float"
        }
       ],
       "ref": "0e5e4f26-7383-4ba1-aacc-872b6a0496c9",
       "rows": [
        [
         "count",
         "165.0",
         "165.0",
         "165.0"
        ],
        [
         "mean",
         "52.15151515151515",
         "2022.0",
         "1564358.6181818182"
        ],
        [
         "std",
         "30.884443566262203",
         "1.4185186364483264",
         "1785126.5344816989"
        ],
        [
         "min",
         "5.0",
         "2020.0",
         "43188.0"
        ],
        [
         "25%",
         "20.0",
         "2021.0",
         "418267.0"
        ],
        [
         "50%",
         "52.0",
         "2022.0",
         "1113810.0"
        ],
        [
         "75%",
         "81.0",
         "2023.0",
         "1709570.0"
        ],
        [
         "max",
         "99.0",
         "2024.0",
         "7929539.0"
        ]
       ],
       "shape": {
        "columns": 3,
        "rows": 8
       }
      },
      "text/html": [
       "<div>\n",
       "<style scoped>\n",
       "    .dataframe tbody tr th:only-of-type {\n",
       "        vertical-align: middle;\n",
       "    }\n",
       "\n",
       "    .dataframe tbody tr th {\n",
       "        vertical-align: top;\n",
       "    }\n",
       "\n",
       "    .dataframe thead th {\n",
       "        text-align: right;\n",
       "    }\n",
       "</style>\n",
       "<table border=\"1\" class=\"dataframe\">\n",
       "  <thead>\n",
       "    <tr style=\"text-align: right;\">\n",
       "      <th></th>\n",
       "      <th>DP</th>\n",
       "      <th>Year</th>\n",
       "      <th>Población</th>\n",
       "    </tr>\n",
       "  </thead>\n",
       "  <tbody>\n",
       "    <tr>\n",
       "      <th>count</th>\n",
       "      <td>165.000000</td>\n",
       "      <td>165.000000</td>\n",
       "      <td>1.650000e+02</td>\n",
       "    </tr>\n",
       "    <tr>\n",
       "      <th>mean</th>\n",
       "      <td>52.151515</td>\n",
       "      <td>2022.000000</td>\n",
       "      <td>1.564359e+06</td>\n",
       "    </tr>\n",
       "    <tr>\n",
       "      <th>std</th>\n",
       "      <td>30.884444</td>\n",
       "      <td>1.418519</td>\n",
       "      <td>1.785127e+06</td>\n",
       "    </tr>\n",
       "    <tr>\n",
       "      <th>min</th>\n",
       "      <td>5.000000</td>\n",
       "      <td>2020.000000</td>\n",
       "      <td>4.318800e+04</td>\n",
       "    </tr>\n",
       "    <tr>\n",
       "      <th>25%</th>\n",
       "      <td>20.000000</td>\n",
       "      <td>2021.000000</td>\n",
       "      <td>4.182670e+05</td>\n",
       "    </tr>\n",
       "    <tr>\n",
       "      <th>50%</th>\n",
       "      <td>52.000000</td>\n",
       "      <td>2022.000000</td>\n",
       "      <td>1.113810e+06</td>\n",
       "    </tr>\n",
       "    <tr>\n",
       "      <th>75%</th>\n",
       "      <td>81.000000</td>\n",
       "      <td>2023.000000</td>\n",
       "      <td>1.709570e+06</td>\n",
       "    </tr>\n",
       "    <tr>\n",
       "      <th>max</th>\n",
       "      <td>99.000000</td>\n",
       "      <td>2024.000000</td>\n",
       "      <td>7.929539e+06</td>\n",
       "    </tr>\n",
       "  </tbody>\n",
       "</table>\n",
       "</div>"
      ],
      "text/plain": [
       "               DP         Year     Población\n",
       "count  165.000000   165.000000  1.650000e+02\n",
       "mean    52.151515  2022.000000  1.564359e+06\n",
       "std     30.884444     1.418519  1.785127e+06\n",
       "min      5.000000  2020.000000  4.318800e+04\n",
       "25%     20.000000  2021.000000  4.182670e+05\n",
       "50%     52.000000  2022.000000  1.113810e+06\n",
       "75%     81.000000  2023.000000  1.709570e+06\n",
       "max     99.000000  2024.000000  7.929539e+06"
      ]
     },
     "execution_count": 40,
     "metadata": {},
     "output_type": "execute_result"
    }
   ],
   "source": [
    "data.describe()"
   ]
  },
  {
   "cell_type": "code",
   "execution_count": 41,
   "id": "503fdd8a",
   "metadata": {},
   "outputs": [],
   "source": [
    "# Crear widgets interactivos\n",
    "def saludo(nombre):\n",
    "    print(f\"Hola {nombre} 👋\")\n",
    "\n",
    "# Crear una caja de texto y botón\n",
    "nombre_input = widgets.Text(description=\"Nombre:\")\n",
    "button = widgets.Button(description=\"Saludar\")\n",
    "\n",
    "# Definir la acción del botón\n",
    "def on_button_clicked(b):\n",
    "    saludo(nombre_input.value)\n",
    "\n",
    "button.on_click(on_button_clicked)\n",
    "\n",
    "# Crear un slider\n",
    "slider = widgets.IntSlider(value=5, min=0, max=10, step=1, description='Número:')\n",
    "\n",
    "# Crear un contenedor para los widgets interactivos\n",
    "widgets_container = widgets.VBox([nombre_input, button, slider])\n",
    "\n",
    "# Agregar al contenedor principal\n",
    "main_container.children += (widgets_container,)"
   ]
  },
  {
   "cell_type": "code",
   "execution_count": 42,
   "id": "23a66fa5",
   "metadata": {},
   "outputs": [
    {
     "data": {
      "text/html": [
       "\n",
       "<style>\n",
       ".widget-slider {\n",
       "    display: flex !important;\n",
       "    justify-content: center !important;\n",
       "    margin: 10px auto !important;\n",
       "    width: 50% !important;\n",
       "}\n",
       "</style>\n"
      ],
      "text/plain": [
       "<IPython.core.display.HTML object>"
      ]
     },
     "metadata": {},
     "output_type": "display_data"
    },
    {
     "data": {
      "application/vnd.jupyter.widget-view+json": {
       "model_id": "f1eb636428a5455ca6d2c2a703abca5e",
       "version_major": 2,
       "version_minor": 0
      },
      "text/plain": [
       "IntSlider(value=5, description='Número:', max=10)"
      ]
     },
     "metadata": {},
     "output_type": "display_data"
    }
   ],
   "source": [
    "# Crear estilo CSS para centrar el slider\n",
    "display(HTML(\"\"\"\n",
    "<style>\n",
    ".widget-slider {\n",
    "    display: flex !important;\n",
    "    justify-content: center !important;\n",
    "    margin: 10px auto !important;\n",
    "    width: 50% !important;\n",
    "}\n",
    "</style>\n",
    "\"\"\"))\n",
    "\n",
    "# Crear un slider\n",
    "slider = widgets.IntSlider(value=5, min=0, max=10, step=1, description='Número:')\n",
    "display(slider)"
   ]
  },
  {
   "cell_type": "code",
   "execution_count": 43,
   "id": "2daa4a2b",
   "metadata": {},
   "outputs": [],
   "source": [
    "# Crear un output widget para el gráfico\n",
    "output_plot = widgets.Output()\n",
    "with output_plot:\n",
    "    plt.figure(figsize=(10, 6))\n",
    "    sns.histplot(data['Year'], bins=10)\n",
    "    plt.xticks(rotation=45)\n",
    "    plt.tight_layout()\n",
    "    plt.show()\n",
    "\n",
    "# Agregar al contenedor principal\n",
    "main_container.children += (output_plot,)"
   ]
  },
  {
   "cell_type": "code",
   "execution_count": null,
   "id": "1e509222",
   "metadata": {},
   "outputs": [],
   "source": []
  }
 ],
 "metadata": {
  "kernelspec": {
   "display_name": "Python 3",
   "language": "python",
   "name": "python3"
  },
  "language_info": {
   "codemirror_mode": {
    "name": "ipython",
    "version": 3
   },
   "file_extension": ".py",
   "mimetype": "text/x-python",
   "name": "python",
   "nbconvert_exporter": "python",
   "pygments_lexer": "ipython3",
   "version": "3.12.1"
  }
 },
 "nbformat": 4,
 "nbformat_minor": 5
}
